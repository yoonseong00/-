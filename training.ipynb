{
 "cells": [
  {
   "cell_type": "code",
   "execution_count": 1,
   "id": "dae02fff-585c-4e0f-9fb0-c30938029d27",
   "metadata": {},
   "outputs": [],
   "source": [
    "#사용자로부터 4자리의 숫자로 구성된 데이터를 입력받아서\n",
    "# 비밀번호와 같으면 '비밀번호가 맞습니다.'를 출력하고 종료하세요.\n",
    "# 비밀번호와 다르면 '비밀번호가 틀렸습니다.'를 출력.\n",
    "# 비밀번호는 4312 입니다."
   ]
  },
  {
   "cell_type": "code",
   "execution_count": 3,
   "id": "309ffaa3-91dc-4fc1-8926-be1c1bd59e0d",
   "metadata": {},
   "outputs": [
    {
     "name": "stdin",
     "output_type": "stream",
     "text": [
      " 4312\n"
     ]
    },
    {
     "name": "stdout",
     "output_type": "stream",
     "text": [
      "비밀번호가 맞습니다.\n"
     ]
    }
   ],
   "source": [
    "pw = int(input())\n",
    "\n",
    "if pw==4312:\n",
    "    print('비밀번호가 맞습니다.')\n",
    "else:\n",
    "    print('비밀번호가 틀렸습니다.')\n"
   ]
  },
  {
   "cell_type": "code",
   "execution_count": 5,
   "id": "51d93e55-a101-46c2-8fc8-db31f5f22a8d",
   "metadata": {},
   "outputs": [
    {
     "name": "stdout",
     "output_type": "stream",
     "text": [
      "ok\n"
     ]
    }
   ],
   "source": [
    "# 다음 소스 코드를 완성하여 x의 값이 10이 아닐 때 'ok'가 출력되게 만드세요.\n",
    "\n",
    "x = 5\n",
    " \n",
    "if x!=10:                       \n",
    "    print('ok')"
   ]
  },
  {
   "cell_type": "markdown",
   "id": "45f7fd37-e7d4-4a46-90f5-bf27f596b7a1",
   "metadata": {},
   "source": [
    "선분 세 개로 삼각형을 만들기 위해서는 다음과 같은 조건을 만족해야 합니다.\r\n",
    "\r\n",
    "가장 긴 변의 길이는 다른 두 변의 길이의 합보다 작아야 합니다.\r\n",
    "삼각형의 세 변의 길이가 담긴 배열 sides이 매개변수로 주어집니\n",
    "다. 세 변으로 삼각형을 만들 수 있다면 1, 만들 수 없다면 2를 return하도록 solution 함수를 완성해주\n",
    "가장 큰 변은 마지막에 작성세요.완성해주세요."
   ]
  },
  {
   "cell_type": "code",
   "execution_count": 46,
   "id": "c275b9e5-eefc-419d-bde4-e42e531ceeda",
   "metadata": {},
   "outputs": [
    {
     "name": "stdout",
     "output_type": "stream",
     "text": [
      "가장 큰 변인 9가 나머지 두 변의 합인 12보다 작기 때문에 삼각형을 완성할 수 있습니다.\n"
     ]
    }
   ],
   "source": [
    "slides = [7,5,9]\n",
    "\n",
    "s=int(slides[0])+int(slides[1])\n",
    "\n",
    "if (slides[0]+slides[1])>slides[2]:\n",
    "    print(f'가장 큰 변인 {slides[2]}가 나머지 두 변의 합인 {s}보다 작기 때문에 삼각형을 완성할 수 있습니다.')\n",
    "elif (slides[0]+slides[1])==slides[2]:\n",
    "    print(f'가장 큰 변인 {slides[2]}가 나머지 두 변의 합인 {s}보다 같기 때문에 삼각형을 완성할 수 없습니다.')\n",
    "else:\n",
    "    print(f'가장 큰 변인 {slides[2]}가 나머지 두 변의 합인 {s}보다 크기 때문에 삼각형을 완성할 수 없습니다.')"
   ]
  },
  {
   "cell_type": "markdown",
   "id": "4b499976-a5c0-4663-8928-d21b6f54b245",
   "metadata": {},
   "source": [
    "### 위와 같은 조건에서 변을 길이에 상관없이 나열했을 때 같은 결과가 나오게끔 설계"
   ]
  },
  {
   "cell_type": "code",
   "execution_count": 70,
   "id": "627e35ff-5c42-440a-b52a-86e946d682b2",
   "metadata": {},
   "outputs": [
    {
     "name": "stdin",
     "output_type": "stream",
     "text": [
      "[] 897\n"
     ]
    },
    {
     "name": "stdout",
     "output_type": "stream",
     "text": [
      "가장 큰 변인 9가 나머지 두 변의 합인 15보다 작기 때문에 삼각형을 완성할 수 있습니다.\n"
     ]
    }
   ],
   "source": [
    "#slides가 정해진 배열이 아닌 값을 받아서 계산하는 프로그래밍\n",
    "slides = input([])\n",
    "\n",
    "sum = int(slides[0])+int(slides[1])+int(slides[2])\n",
    "\n",
    "mx = int(max(slides))\n",
    "\n",
    "s = sum - mx\n",
    "\n",
    "if (slides[0]+slides[1])>slides[2]:\n",
    "    print(f'가장 큰 변인 {mx}가 나머지 두 변의 합인 {s}보다 작기 때문에 삼각형을 완성할 수 있습니다.')\n",
    "elif (slides[0]+slides[1])==slides[2]:\n",
    "    print(f'가장 큰 변인 {mx}가 나머지 두 변의 합인 {s}보다 같기 때문에 삼각형을 완성할 수 없습니다.')\n",
    "else:\n",
    "    print(f'가장 큰 변인 {mx}가 나머지 두 변의 합인 {s}보다 크기 때문에 삼각형을 완성할 수 없습니다.')"
   ]
  },
  {
   "cell_type": "markdown",
   "id": "f6560acf-573e-4d89-b5ce-9b988e222e21",
   "metadata": {},
   "source": [
    "# 조건문으로 계산기 만들어보기"
   ]
  },
  {
   "cell_type": "code",
   "execution_count": 3,
   "id": "3687f7cb-385b-4dd6-a3cd-e26503681ccb",
   "metadata": {},
   "outputs": [
    {
     "name": "stdout",
     "output_type": "stream",
     "text": [
      "원하는 연산을 선택하세요.\n",
      "1. 덧셈\n",
      "2. 뺄셈\n",
      "3. 곱셈\n",
      "4. 나눗셈\n",
      "0. 나가기\n"
     ]
    },
    {
     "name": "stdin",
     "output_type": "stream",
     "text": [
      "선택 (1/2/3/4/0):  1\n",
      "첫 번째 숫자를 입력하세요:  4\n",
      "두 번째 숫자를 입력하세요:  2\n"
     ]
    },
    {
     "name": "stdout",
     "output_type": "stream",
     "text": [
      "4.0 + 2.0 = 6.0\n",
      "\n"
     ]
    },
    {
     "name": "stdin",
     "output_type": "stream",
     "text": [
      "선택 (1/2/3/4/0):  0\n"
     ]
    },
    {
     "name": "stdout",
     "output_type": "stream",
     "text": [
      "종료합니다\n"
     ]
    }
   ],
   "source": [
    "def add(x, y):\n",
    "    return x + y\n",
    "\n",
    "def subtract(x, y):\n",
    "    return x - y\n",
    "\n",
    "def multiply(x, y):\n",
    "    return x * y\n",
    "\n",
    "def divide(x, y):\n",
    "    return x / y\n",
    "\n",
    "print(\"원하는 연산을 선택하세요.\")\n",
    "print(\"1. 덧셈\")\n",
    "print(\"2. 뺄셈\")\n",
    "print(\"3. 곱셈\")\n",
    "print(\"4. 나눗셈\")\n",
    "print(\"0. 나가기\")\n",
    "\n",
    "while(1):\n",
    "  choice = input(\"선택 (1/2/3/4/0): \")\n",
    "  if choice == '0':\n",
    "    print('종료합니다')\n",
    "    break\n",
    "\n",
    "  num1 = float(input(\"첫 번째 숫자를 입력하세요: \"))\n",
    "  num2 = float(input(\"두 번째 숫자를 입력하세요: \"))\n",
    "\n",
    "  if choice == '1':\n",
    "      print(num1, \"+\", num2, \"=\", add(num1,num2))\n",
    "\n",
    "  elif choice == '2':\n",
    "      print(num1, \"-\", num2, \"=\", subtract(num1,num2))\n",
    "\n",
    "  elif choice == '3':\n",
    "      print(num1, \"*\", num2, \"=\", multiply(num1,num2))\n",
    "\n",
    "  elif choice == '4':\n",
    "      print(num1, \"/\", num2, \"=\", divide(num1,num2))\n",
    "\n",
    "  else:\n",
    "      print(\"잘못된 입력입니다.\")\n",
    "  print()"
   ]
  },
  {
   "cell_type": "code",
   "execution_count": null,
   "id": "65bc5c3e-d0ac-4ab8-a255-f2e50f9b9300",
   "metadata": {},
   "outputs": [],
   "source": [
    "4\n"
   ]
  }
 ],
 "metadata": {
  "kernelspec": {
   "display_name": "Python 3 (ipykernel)",
   "language": "python",
   "name": "python3"
  },
  "language_info": {
   "codemirror_mode": {
    "name": "ipython",
    "version": 3
   },
   "file_extension": ".py",
   "mimetype": "text/x-python",
   "name": "python",
   "nbconvert_exporter": "python",
   "pygments_lexer": "ipython3",
   "version": "3.11.5"
  }
 },
 "nbformat": 4,
 "nbformat_minor": 5
}
